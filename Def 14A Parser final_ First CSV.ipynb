{
 "cells": [
  {
   "cell_type": "markdown",
   "metadata": {},
   "source": [
    "### Parsing one link and creating initial csv (ONE TIME USE)\n",
    "\n",
    "This code Created the leading CSV file. It is intented to be ran first and only once. After running this code, move on to running Def 14A Parser Final"
   ]
  },
  {
   "cell_type": "code",
   "execution_count": null,
   "metadata": {},
   "outputs": [],
   "source": [
    "# Creating Initial CSV (from single sample link)\n",
    "sample = [\"https://www.sec.gov/Archives/edgar/data/1001115/000119312519001874/d675272ddef14a.htm\"]\n",
    "\n",
    "# Import packages\n",
    "import requests\n",
    "import urllib\n",
    "from bs4 import BeautifulSoup\n",
    "import json\n",
    "import pandas as pd\n",
    "import re\n",
    "\n",
    "tables = []\n",
    "for link in sample:\n",
    "    \n",
    "    content = requests.get(link)\n",
    "    soup = BeautifulSoup(content.text, 'lxml')\n",
    "\n",
    "    try:\n",
    "        search_result = pd.read_html(link, match=\"Beneficial\", header=0)\n",
    "        for df in search_result:\n",
    "            df = df.astype('str')\n",
    "            for column in df.columns:\n",
    "                if df[column].str.lower().str.contains(\"%\").any():\n",
    "                    tables.append(df)\n",
    "                    break\n",
    "    except ValueError:\n",
    "        continue\n",
    "\n",
    "    # Find and add company name\n",
    "    company = soup.select_one(\"p:contains(Name)\").find_previous('p').text.strip()\n",
    "    df['Company Name'] = company\n",
    "\n",
    "    # 5. Adding Date\n",
    "    date = soup.find('p', text = re.compile(r\"(?:January|February|March|April|May|June|July|August|September|October|November|December)\")).text.strip()\n",
    "    df['Filing Date'] = date\n",
    "    #print(df)\n",
    "\n",
    "#Tidying and saving initial csv\n",
    "temp_var = tables[0]\n",
    "temp_var = pd.DataFrame(temp_var)\n",
    "temp_var.columns = temp_var.iloc[0]\n",
    "temp_var = temp_var.drop(temp_var.index[0])\n",
    "temp_var = temp_var.drop(['nan'], axis = 1)\n",
    "column_names = ['Beneficial_Owner', 'share','Shares voting power', 'percent','Percent shares', 'Company name', 'Date filed']\n",
    "temp_var.columns = column_names\n",
    "temp_var.to_csv(\"CSV FILE PATH HERE\")\n"
   ]
  }
 ],
 "metadata": {
  "kernelspec": {
   "display_name": "Python 3",
   "language": "python",
   "name": "python3"
  },
  "language_info": {
   "codemirror_mode": {
    "name": "ipython",
    "version": 3
   },
   "file_extension": ".py",
   "mimetype": "text/x-python",
   "name": "python",
   "nbconvert_exporter": "python",
   "pygments_lexer": "ipython3",
   "version": "3.7.6"
  }
 },
 "nbformat": 4,
 "nbformat_minor": 4
}
