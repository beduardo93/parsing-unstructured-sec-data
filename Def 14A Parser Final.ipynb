{
 "cells": [
  {
   "cell_type": "markdown",
   "metadata": {},
   "source": [
    "### 2. Parsing and creating the list of dataframes (call it 'tables')"
   ]
  },
  {
   "cell_type": "code",
   "execution_count": null,
   "metadata": {},
   "outputs": [],
   "source": [
    "# Creating the list of dataframes, called \"tables\"\n",
    "\n",
    "# Import packages\n",
    "import requests\n",
    "import urllib\n",
    "from bs4 import BeautifulSoup\n",
    "import json\n",
    "import pandas as pd\n",
    "import re\n",
    "\n",
    "with open('YOUR_DATA_FILE.csv') as fp:\n",
    "    def14aLinks = [filename.strip() for filename in fp.readlines()]\n",
    "    def14aLinks = def14aLinks[1:]\n",
    "    \n",
    "tables = []\n",
    "for link in def14aLinks:\n",
    "    \n",
    "    content = requests.get(link)\n",
    "    soup = BeautifulSoup(content.text, 'lxml')\n",
    "\n",
    "    try:\n",
    "        search_result = pd.read_html(link, match=\"Beneficial\", header=0)\n",
    "        for df in search_result:\n",
    "            df = df.astype('str')\n",
    "            for column in df.columns:\n",
    "                if df[column].str.lower().str.contains(\"%\").any():\n",
    "                    tables.append(df)\n",
    "                    break\n",
    "    except ValueError:\n",
    "        continue\n",
    "\n",
    "    # Find and add company name\n",
    "    try:\n",
    "        company = soup.select_one(\"p:contains(Name)\").find_previous('p').text.strip()\n",
    "        df['Company Name'] = company\n",
    "    except AttributeError:\n",
    "        pass\n",
    "\n",
    "    # 5. Adding Date\n",
    "    try:\n",
    "        date = soup.find('p', text = re.compile(r\"(?:January|February|March|April|May|June|July|August|September|October|November|December)\")).text.strip()\n",
    "        df['Filing Date'] = date\n",
    "    except AttributeError:\n",
    "        pass\n",
    "    #print(df)\n",
    "    \n",
    "    #NOTE: THIS IS THE LONGEST PART OF THE CODE. MAY TAKE UP TO 4 HOURS, DEPENDING ON NUMBER OF ITERATIONS"
   ]
  },
  {
   "cell_type": "markdown",
   "metadata": {},
   "source": [
    "## 3. Saving each dataframe in \"tables\" in an individual csv file"
   ]
  },
  {
   "cell_type": "code",
   "execution_count": 66,
   "metadata": {},
   "outputs": [],
   "source": [
    "# Function to save each table to individual csv file\n",
    "def individual_saver(t, year):\n",
    "    #index count\n",
    "    i = 0\n",
    "    while True:\n",
    "        try:\n",
    "            temp_var = t[i]\n",
    "            temp_var.to_csv('YOUR_PATH_HERE/Raw_csv/{}/sample{}.csv'.format(year, i))\n",
    "            i += 1\n",
    "        except IndexError:\n",
    "            break\n",
    "\n",
    "individual_saver(tables, 1998)"
   ]
  },
  {
   "cell_type": "markdown",
   "metadata": {},
   "source": [
    "### 4. Tidying every dataframes in \"tables\" and appending result to initially created csv (See \"Def 14A Final _ First CSV\" notebook)"
   ]
  },
  {
   "cell_type": "code",
   "execution_count": 67,
   "metadata": {},
   "outputs": [],
   "source": [
    "# Tidying and appending every subsequent dataframe to initial CSV\n",
    "def tidy_saver(t):\n",
    "    #index count\n",
    "    i = 0\n",
    "    while True:\n",
    "        try:\n",
    "            temp_var = t[i]\n",
    "            temp_var = pd.DataFrame(temp_var)\n",
    "            temp_var.columns = temp_var.iloc[0]\n",
    "            temp_var = temp_var.drop(temp_var.index[0])\n",
    "            try:\n",
    "                temp_var = temp_var.drop(['nan'], axis = 1)\n",
    "            except KeyError:\n",
    "                pass\n",
    "            column_names = ['Beneficial_Owner', 'share','Shares voting power', 'percent','Percent shares', 'Company name', 'Date filed']\n",
    "            if len(temp_var.columns) == 7:\n",
    "                temp_var.columns = column_names\n",
    "                #temp_var = temp_var.drop(['share','percent'], axis = 1) #dropping these may not be ideal\n",
    "                # as some values could land there. So, just clean them manually later on\n",
    "            else:\n",
    "                pass\n",
    "            temp_var.to_csv('YOUR_DATA_FILE.csv', mode='a', header=False)\n",
    "            # Note: while header = False, the index counting restarts at every new table appended.\n",
    "            # So, use index counting to identify where to start editing a table\n",
    "            i += 1\n",
    "        except IndexError:\n",
    "            break\n",
    "\n",
    "tidy_saver(tables)"
   ]
  }
 ],
 "metadata": {
  "kernelspec": {
   "display_name": "Python 3",
   "language": "python",
   "name": "python3"
  },
  "language_info": {
   "codemirror_mode": {
    "name": "ipython",
    "version": 3
   },
   "file_extension": ".py",
   "mimetype": "text/x-python",
   "name": "python",
   "nbconvert_exporter": "python",
   "pygments_lexer": "ipython3",
   "version": "3.7.6"
  }
 },
 "nbformat": 4,
 "nbformat_minor": 4
}
